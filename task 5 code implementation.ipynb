{
 "cells": [
  {
   "cell_type": "code",
   "execution_count": 1,
   "id": "8e4f3df8",
   "metadata": {},
   "outputs": [],
   "source": [
    "\n",
    "my_dict = {}\n",
    "\n",
    "\n",
    "my_dict = dict()\n"
   ]
  },
  {
   "cell_type": "code",
   "execution_count": 2,
   "id": "dc5dee94",
   "metadata": {},
   "outputs": [],
   "source": [
    "\n",
    "my_dict['key1'] = 'value1'\n",
    "my_dict['key2'] = 'value2'\n",
    "\n",
    "\n",
    "my_dict.update({'key3': 'value3', 'key4': 'value4'})\n"
   ]
  },
  {
   "cell_type": "code",
   "execution_count": 3,
   "id": "7c37a961",
   "metadata": {},
   "outputs": [],
   "source": [
    "value = my_dict['key1']  # Retrieves 'value1'\n"
   ]
  },
  {
   "cell_type": "code",
   "execution_count": 6,
   "id": "9201929b",
   "metadata": {},
   "outputs": [],
   "source": [
    "value = my_dict.get('key5', 'default_value')  # Retrieves 'default_value' because 'key5' doesn't exist\n"
   ]
  },
  {
   "cell_type": "code",
   "execution_count": 7,
   "id": "e30eb4ad",
   "metadata": {},
   "outputs": [],
   "source": [
    "# Using pop()\n",
    "removed_value = my_dict.pop('key1')  # Removes 'key1' and returns its value\n",
    "\n",
    "# Using del\n",
    "del my_dict['key2']  # Removes 'key2'\n"
   ]
  },
  {
   "cell_type": "code",
   "execution_count": 12,
   "id": "5448ba17",
   "metadata": {},
   "outputs": [
    {
     "name": "stdout",
     "output_type": "stream",
     "text": [
      "key3 exists in the dictionary\n"
     ]
    }
   ],
   "source": [
    "if 'key3' in my_dict:\n",
    "    print('key3 exists in the dictionary')\n"
   ]
  },
  {
   "cell_type": "code",
   "execution_count": 13,
   "id": "0d8d8305",
   "metadata": {},
   "outputs": [
    {
     "name": "stdout",
     "output_type": "stream",
     "text": [
      "key3\n",
      "key4\n",
      "value3\n",
      "value4\n",
      "key3 value3\n",
      "key4 value4\n"
     ]
    }
   ],
   "source": [
    "\n",
    "for key in my_dict:\n",
    "    print(key)\n",
    "\n",
    "\n",
    "for value in my_dict.values():\n",
    "    print(value)\n",
    "\n",
    "# Iterating over key-value pairs\n",
    "for key, value in my_dict.items():\n",
    "    print(key, value)\n"
   ]
  },
  {
   "cell_type": "code",
   "execution_count": 16,
   "id": "5f5404d2",
   "metadata": {},
   "outputs": [
    {
     "name": "stdout",
     "output_type": "stream",
     "text": [
      "A: B\n",
      "B: C\n",
      "C: A\n"
     ]
    }
   ],
   "source": [
    "class Graph:\n",
    "    def __init__(self):\n",
    "        self.graph = {}\n",
    "\n",
    "    def add_vertex(self, vertex):\n",
    "        if vertex not in self.graph:\n",
    "            self.graph[vertex] = []\n",
    "\n",
    "    def add_edge(self, vertex1, vertex2):\n",
    "        if vertex1 in self.graph:\n",
    "            self.graph[vertex1].append(vertex2)\n",
    "        else:\n",
    "            self.graph[vertex1] = [vertex2]\n",
    "\n",
    "    def display(self):\n",
    "        for vertex, neighbors in self.graph.items():\n",
    "            print(f\"{vertex}: {', '.join(neighbors)}\")\n",
    "\n",
    "g = Graph()\n",
    "\n",
    "\n",
    "g.add_vertex('A')\n",
    "g.add_vertex('B')\n",
    "g.add_vertex('C')\n",
    "\n",
    "\n",
    "g.add_edge('A', 'B')\n",
    "g.add_edge('B', 'C')\n",
    "g.add_edge('C', 'A')\n",
    "\n",
    "\n",
    "g.display()\n"
   ]
  },
  {
   "cell_type": "code",
   "execution_count": 17,
   "id": "9bd40c21",
   "metadata": {},
   "outputs": [],
   "source": [
    "def recursive_dfs(graph, vertex, visited):\n",
    "    if vertex not in visited:\n",
    "        print(vertex)\n",
    "        visited.add(vertex)\n",
    "        for neighbor in graph[vertex]:\n",
    "            recursive_dfs(graph, neighbor, visited)\n"
   ]
  },
  {
   "cell_type": "code",
   "execution_count": 18,
   "id": "36566a4c",
   "metadata": {},
   "outputs": [],
   "source": [
    "def iterative_dfs(graph, start):\n",
    "    stack = [start]\n",
    "    visited = set()\n",
    "    while stack:\n",
    "        vertex = stack.pop()\n",
    "        if vertex not in visited:\n",
    "            print(vertex)\n",
    "            visited.add(vertex)\n",
    "            stack.extend(neighbor for neighbor in graph[vertex] if neighbor not in visited)\n"
   ]
  },
  {
   "cell_type": "code",
   "execution_count": 19,
   "id": "b7af83f1",
   "metadata": {},
   "outputs": [],
   "source": [
    "from collections import deque\n",
    "\n",
    "def bfs(graph, start):\n",
    "    queue = deque([start])\n",
    "    visited = set()\n",
    "    while queue:\n",
    "        vertex = queue.popleft()\n",
    "        if vertex not in visited:\n",
    "            print(vertex)\n",
    "            visited.add(vertex)\n",
    "            queue.extend(neighbor for neighbor in graph[vertex] if neighbor not in visited)\n"
   ]
  },
  {
   "cell_type": "code",
   "execution_count": null,
   "id": "d99bd3dc",
   "metadata": {},
   "outputs": [],
   "source": []
  }
 ],
 "metadata": {
  "kernelspec": {
   "display_name": "Python 3 (ipykernel)",
   "language": "python",
   "name": "python3"
  },
  "language_info": {
   "codemirror_mode": {
    "name": "ipython",
    "version": 3
   },
   "file_extension": ".py",
   "mimetype": "text/x-python",
   "name": "python",
   "nbconvert_exporter": "python",
   "pygments_lexer": "ipython3",
   "version": "3.11.3"
  }
 },
 "nbformat": 4,
 "nbformat_minor": 5
}
